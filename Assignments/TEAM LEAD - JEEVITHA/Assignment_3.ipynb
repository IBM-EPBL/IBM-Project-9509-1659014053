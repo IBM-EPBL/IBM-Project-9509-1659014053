{
  "cells": [
    {
      "cell_type": "markdown",
      "metadata": {
        "id": "BfQTKNnlv9Lr"
      },
      "source": [
        "## **Load Dataset**"
      ]
    },
    {
      "cell_type": "code",
      "execution_count": 1,
      "metadata": {
        "colab": {
          "base_uri": "https://localhost:8080/"
        },
        "id": "HtCfA0hPvgiA",
        "outputId": "03f379c2-5c11-41b6-c9b5-2edf2f08913b"
      },
      "outputs": [
        {
          "name": "stdout",
          "output_type": "stream",
          "text": [
            "Looking in indexes: https://pypi.org/simple, https://us-python.pkg.dev/colab-wheels/public/simple/\n",
            "Collecting split-folders\n",
            "  Downloading split_folders-0.5.1-py3-none-any.whl (8.4 kB)\n",
            "Installing collected packages: split-folders\n",
            "Successfully installed split-folders-0.5.1\n"
          ]
        }
      ],
      "source": [
        "!pip install split-folders"
      ]
    },
    {
      "cell_type": "code",
      "execution_count": 2,
      "metadata": {
        "colab": {
          "base_uri": "https://localhost:8080/"
        },
        "id": "MbygZ3vqZSmB",
        "outputId": "0f4a70da-f015-4e4e-e4f3-1f96c68b18ed"
      },
      "outputs": [
        {
          "name": "stdout",
          "output_type": "stream",
          "text": [
            "Mounted at /content/drive\n"
          ]
        }
      ],
      "source": [
        "from google.colab import drive\n",
        "drive.mount('/content/drive')"
      ]
    },
    {
      "cell_type": "code",
      "execution_count": 4,
      "metadata": {
        "id": "Ph0flttXZQQ0"
      },
      "outputs": [],
      "source": [
        "import splitfolders"
      ]
    },
    {
      "cell_type": "code",
      "execution_count": 5,
      "metadata": {
        "colab": {
          "base_uri": "https://localhost:8080/"
        },
        "id": "vVff24f7blk9",
        "outputId": "865673ac-8c1c-40f2-e711-2863d4c104f5"
      },
      "outputs": [
        {
          "name": "stderr",
          "output_type": "stream",
          "text": [
            "Copying files: 4325 files [01:40, 43.15 files/s] \n"
          ]
        }
      ],
      "source": [
        "splitfolders.ratio(input=\"/content/drive/MyDrive/flowers\",output=\"/content/drive/MyDrive/flowers\",seed=1337,ratio=(0.8,0.1,0.1),)"
      ]
    },
    {
      "cell_type": "markdown",
      "metadata": {
        "id": "ZlQ3aw0UcM5v"
      },
      "source": [
        "## **Image Augmentation**\n"
      ]
    },
    {
      "cell_type": "code",
      "execution_count": 6,
      "metadata": {
        "id": "mj0hqxXkcT0Q"
      },
      "outputs": [],
      "source": [
        "import keras\n",
        "from keras.preprocessing.image import ImageDataGenerator"
      ]
    },
    {
      "cell_type": "code",
      "execution_count": 7,
      "metadata": {
        "id": "eIhveNopcmQx"
      },
      "outputs": [],
      "source": [
        "train_datagen = ImageDataGenerator(rescale=1./255,zoom_range=0.2,horizontal_flip=True)\n",
        "test_datagen = ImageDataGenerator(rescale=1./255)"
      ]
    },
    {
      "cell_type": "code",
      "execution_count": 8,
      "metadata": {
        "colab": {
          "base_uri": "https://localhost:8080/"
        },
        "id": "E5xdrDFCde21",
        "outputId": "d08f2a34-2fec-4cc7-9100-7f2c13bfc101"
      },
      "outputs": [
        {
          "name": "stdout",
          "output_type": "stream",
          "text": [
            "Found 3458 images belonging to 5 classes.\n",
            "Found 436 images belonging to 5 classes.\n"
          ]
        }
      ],
      "source": [
        " x_train = train_datagen.flow_from_directory ('/content/drive/MyDrive/flowers/train', target_size = (64,64), batch_size = 100, class_mode= 'categorical')\n",
        " x_test = test_datagen.flow_from_directory('/content/drive/MyDrive/flowers/test', target_size = (64,64), batch_size = 100, class_mode= 'categorical')"
      ]
    },
    {
      "cell_type": "markdown",
      "metadata": {
        "id": "FIaxQkGpeCQp"
      },
      "source": [
        "## **Create Model**"
      ]
    },
    {
      "cell_type": "code",
      "execution_count": 10,
      "metadata": {
        "id": "RtvFnzxweJWY"
      },
      "outputs": [],
      "source": [
        "from keras.models import Sequential\n",
        "from keras.layers import Convolution2D,MaxPooling2D,Flatten,Dense"
      ]
    },
    {
      "cell_type": "code",
      "execution_count": 11,
      "metadata": {
        "id": "TJob4LWled2e"
      },
      "outputs": [],
      "source": [
        "model=Sequential()"
      ]
    },
    {
      "cell_type": "markdown",
      "metadata": {
        "id": "3NvtQEK_eTW3"
      },
      "source": [
        "## **Add Layers (Convolution,MaxPooling,Flatten,Dense-(Hidden Layers),Output)**"
      ]
    },
    {
      "cell_type": "code",
      "execution_count": 12,
      "metadata": {
        "id": "LjPSH1aGeYh2"
      },
      "outputs": [],
      "source": [
        "model.add(Convolution2D(32,(3,3),activation='relu',input_shape=(64,64,3))) # Convolution layer\n",
        "model.add(MaxPooling2D(pool_size=(2,2))) # Max pooling layer\n",
        "model.add(Flatten()) # Flatten layer\n",
        "# Fully connected layers (ANN)\n",
        "model.add(Dense(300,activation='relu')) # Hidden layer 1\n",
        "model.add(Dense(112,activation='relu')) # Hidden layer 2\n",
        "model.add(Dense(5,activation='softmax')) # Output layer"
      ]
    },
    {
      "cell_type": "markdown",
      "metadata": {
        "id": "AYi6kuu5fW_m"
      },
      "source": [
        "## **Compile The Model**"
      ]
    },
    {
      "cell_type": "code",
      "execution_count": 14,
      "metadata": {
        "id": "5RoaxAhpgFHM"
      },
      "outputs": [],
      "source": [
        "model.compile(optimizer='adam',loss='categorical_crossentropy',metrics=['accuracy'])"
      ]
    },
    {
      "cell_type": "code",
      "execution_count": 15,
      "metadata": {
        "colab": {
          "base_uri": "https://localhost:8080/"
        },
        "id": "V-ZSHpjqf1lL",
        "outputId": "840ab73a-644f-4385-dcfc-9f20783d6c6a"
      },
      "outputs": [
        {
          "name": "stdout",
          "output_type": "stream",
          "text": [
            "Model: \"sequential\"\n",
            "_________________________________________________________________\n",
            " Layer (type)                Output Shape              Param #   \n",
            "=================================================================\n",
            " conv2d (Conv2D)             (None, 62, 62, 32)        896       \n",
            "                                                                 \n",
            " max_pooling2d (MaxPooling2D  (None, 31, 31, 32)       0         \n",
            " )                                                               \n",
            "                                                                 \n",
            " flatten (Flatten)           (None, 30752)             0         \n",
            "                                                                 \n",
            " dense (Dense)               (None, 300)               9225900   \n",
            "                                                                 \n",
            " dense_1 (Dense)             (None, 112)               33712     \n",
            "                                                                 \n",
            " dense_2 (Dense)             (None, 5)                 565       \n",
            "                                                                 \n",
            "=================================================================\n",
            "Total params: 9,261,073\n",
            "Trainable params: 9,261,073\n",
            "Non-trainable params: 0\n",
            "_________________________________________________________________\n"
          ]
        }
      ],
      "source": [
        "model.summary()"
      ]
    },
    {
      "cell_type": "markdown",
      "metadata": {
        "id": "NPgu5lN0fiTZ"
      },
      "source": [
        "## **Fit The Model**"
      ]
    },
    {
      "cell_type": "code",
      "execution_count": 17,
      "metadata": {
        "colab": {
          "base_uri": "https://localhost:8080/"
        },
        "id": "pxQJYp-qfkpr",
        "outputId": "4fae7ab9-f636-4ae4-f383-c06cc9130642"
      },
      "outputs": [
        {
          "name": "stderr",
          "output_type": "stream",
          "text": [
            "/usr/local/lib/python3.7/dist-packages/ipykernel_launcher.py:5: UserWarning: `Model.fit_generator` is deprecated and will be removed in a future version. Please use `Model.fit`, which supports generators.\n",
            "  \"\"\"\n"
          ]
        },
        {
          "name": "stdout",
          "output_type": "stream",
          "text": [
            "Epoch 1/100\n",
            "35/35 [==============================] - 29s 813ms/step - loss: 1.7859 - accuracy: 0.3600 - val_loss: 1.2995 - val_accuracy: 0.4427\n",
            "Epoch 2/100\n",
            "35/35 [==============================] - 28s 798ms/step - loss: 1.1607 - accuracy: 0.5017 - val_loss: 1.1873 - val_accuracy: 0.4839\n",
            "Epoch 3/100\n",
            "35/35 [==============================] - 28s 795ms/step - loss: 1.1029 - accuracy: 0.5411 - val_loss: 1.1474 - val_accuracy: 0.5252\n",
            "Epoch 4/100\n",
            "35/35 [==============================] - 28s 801ms/step - loss: 1.0158 - accuracy: 0.5894 - val_loss: 1.0693 - val_accuracy: 0.5505\n",
            "Epoch 5/100\n",
            "35/35 [==============================] - 28s 795ms/step - loss: 0.9699 - accuracy: 0.6099 - val_loss: 1.0710 - val_accuracy: 0.5459\n",
            "Epoch 6/100\n",
            "35/35 [==============================] - 28s 794ms/step - loss: 0.9174 - accuracy: 0.6475 - val_loss: 1.0806 - val_accuracy: 0.5573\n",
            "Epoch 7/100\n",
            "35/35 [==============================] - 28s 802ms/step - loss: 0.8853 - accuracy: 0.6593 - val_loss: 0.9883 - val_accuracy: 0.6170\n",
            "Epoch 8/100\n",
            "35/35 [==============================] - 28s 800ms/step - loss: 0.8313 - accuracy: 0.6810 - val_loss: 0.9352 - val_accuracy: 0.6239\n",
            "Epoch 9/100\n",
            "35/35 [==============================] - 28s 793ms/step - loss: 0.7961 - accuracy: 0.6990 - val_loss: 0.9399 - val_accuracy: 0.6261\n",
            "Epoch 10/100\n",
            "35/35 [==============================] - 28s 797ms/step - loss: 0.7631 - accuracy: 0.7134 - val_loss: 0.9895 - val_accuracy: 0.6101\n",
            "Epoch 11/100\n",
            "35/35 [==============================] - 29s 817ms/step - loss: 0.7477 - accuracy: 0.7189 - val_loss: 0.8913 - val_accuracy: 0.6514\n",
            "Epoch 12/100\n",
            "35/35 [==============================] - 31s 887ms/step - loss: 0.6997 - accuracy: 0.7351 - val_loss: 1.1000 - val_accuracy: 0.6009\n",
            "Epoch 13/100\n",
            "35/35 [==============================] - 28s 801ms/step - loss: 0.6735 - accuracy: 0.7478 - val_loss: 1.0296 - val_accuracy: 0.5917\n",
            "Epoch 14/100\n",
            "35/35 [==============================] - 28s 803ms/step - loss: 0.6553 - accuracy: 0.7533 - val_loss: 0.9334 - val_accuracy: 0.6422\n",
            "Epoch 15/100\n",
            "35/35 [==============================] - 28s 800ms/step - loss: 0.6272 - accuracy: 0.7692 - val_loss: 1.1072 - val_accuracy: 0.6032\n",
            "Epoch 16/100\n",
            "35/35 [==============================] - 28s 800ms/step - loss: 0.6263 - accuracy: 0.7658 - val_loss: 0.9969 - val_accuracy: 0.6376\n",
            "Epoch 17/100\n",
            "35/35 [==============================] - 29s 813ms/step - loss: 0.5902 - accuracy: 0.7779 - val_loss: 0.9461 - val_accuracy: 0.6697\n",
            "Epoch 18/100\n",
            "35/35 [==============================] - 29s 813ms/step - loss: 0.5730 - accuracy: 0.7854 - val_loss: 0.9617 - val_accuracy: 0.6468\n",
            "Epoch 19/100\n",
            "35/35 [==============================] - 29s 812ms/step - loss: 0.5474 - accuracy: 0.7987 - val_loss: 0.9801 - val_accuracy: 0.6468\n",
            "Epoch 20/100\n",
            "35/35 [==============================] - 28s 808ms/step - loss: 0.5109 - accuracy: 0.8071 - val_loss: 1.0235 - val_accuracy: 0.6628\n",
            "Epoch 21/100\n",
            "35/35 [==============================] - 30s 851ms/step - loss: 0.5032 - accuracy: 0.8106 - val_loss: 1.1141 - val_accuracy: 0.6468\n",
            "Epoch 22/100\n",
            "35/35 [==============================] - 29s 811ms/step - loss: 0.4760 - accuracy: 0.8340 - val_loss: 1.1048 - val_accuracy: 0.6674\n",
            "Epoch 23/100\n",
            "35/35 [==============================] - 28s 803ms/step - loss: 0.4787 - accuracy: 0.8222 - val_loss: 1.0569 - val_accuracy: 0.6560\n",
            "Epoch 24/100\n",
            "35/35 [==============================] - 28s 801ms/step - loss: 0.4456 - accuracy: 0.8395 - val_loss: 1.1212 - val_accuracy: 0.6606\n",
            "Epoch 25/100\n",
            "35/35 [==============================] - 28s 799ms/step - loss: 0.4210 - accuracy: 0.8482 - val_loss: 1.0572 - val_accuracy: 0.6789\n",
            "Epoch 26/100\n",
            "35/35 [==============================] - 30s 848ms/step - loss: 0.3961 - accuracy: 0.8548 - val_loss: 1.0869 - val_accuracy: 0.6743\n",
            "Epoch 27/100\n",
            "35/35 [==============================] - 28s 802ms/step - loss: 0.3742 - accuracy: 0.8702 - val_loss: 1.2867 - val_accuracy: 0.6239\n",
            "Epoch 28/100\n",
            "35/35 [==============================] - 28s 800ms/step - loss: 0.3540 - accuracy: 0.8722 - val_loss: 1.2237 - val_accuracy: 0.6674\n",
            "Epoch 29/100\n",
            "35/35 [==============================] - 28s 805ms/step - loss: 0.3231 - accuracy: 0.8866 - val_loss: 1.1772 - val_accuracy: 0.6606\n",
            "Epoch 30/100\n",
            "35/35 [==============================] - 29s 813ms/step - loss: 0.3326 - accuracy: 0.8794 - val_loss: 1.3340 - val_accuracy: 0.6468\n",
            "Epoch 31/100\n",
            "35/35 [==============================] - 30s 823ms/step - loss: 0.3066 - accuracy: 0.8921 - val_loss: 1.2669 - val_accuracy: 0.6353\n",
            "Epoch 32/100\n",
            "35/35 [==============================] - 28s 798ms/step - loss: 0.2958 - accuracy: 0.8991 - val_loss: 1.2953 - val_accuracy: 0.6606\n",
            "Epoch 33/100\n",
            "35/35 [==============================] - 28s 796ms/step - loss: 0.2838 - accuracy: 0.8994 - val_loss: 1.2764 - val_accuracy: 0.6697\n",
            "Epoch 34/100\n",
            "35/35 [==============================] - 28s 801ms/step - loss: 0.2835 - accuracy: 0.9034 - val_loss: 1.3544 - val_accuracy: 0.6537\n",
            "Epoch 35/100\n",
            "35/35 [==============================] - 29s 837ms/step - loss: 0.2344 - accuracy: 0.9208 - val_loss: 1.4006 - val_accuracy: 0.6468\n",
            "Epoch 36/100\n",
            "35/35 [==============================] - 28s 785ms/step - loss: 0.2400 - accuracy: 0.9138 - val_loss: 1.4099 - val_accuracy: 0.6353\n",
            "Epoch 37/100\n",
            "35/35 [==============================] - 28s 797ms/step - loss: 0.2259 - accuracy: 0.9245 - val_loss: 1.4540 - val_accuracy: 0.6537\n",
            "Epoch 38/100\n",
            "35/35 [==============================] - 28s 806ms/step - loss: 0.2190 - accuracy: 0.9260 - val_loss: 1.4195 - val_accuracy: 0.6491\n",
            "Epoch 39/100\n",
            "35/35 [==============================] - 28s 797ms/step - loss: 0.2238 - accuracy: 0.9237 - val_loss: 1.3381 - val_accuracy: 0.6720\n",
            "Epoch 40/100\n",
            "35/35 [==============================] - 30s 843ms/step - loss: 0.1850 - accuracy: 0.9370 - val_loss: 1.4991 - val_accuracy: 0.6628\n",
            "Epoch 41/100\n",
            "35/35 [==============================] - 28s 790ms/step - loss: 0.1753 - accuracy: 0.9410 - val_loss: 1.4284 - val_accuracy: 0.6697\n",
            "Epoch 42/100\n",
            "35/35 [==============================] - 28s 795ms/step - loss: 0.1739 - accuracy: 0.9433 - val_loss: 1.4799 - val_accuracy: 0.6491\n",
            "Epoch 43/100\n",
            "35/35 [==============================] - 28s 801ms/step - loss: 0.1674 - accuracy: 0.9442 - val_loss: 1.5864 - val_accuracy: 0.6491\n",
            "Epoch 44/100\n",
            "35/35 [==============================] - 28s 805ms/step - loss: 0.1682 - accuracy: 0.9462 - val_loss: 1.5771 - val_accuracy: 0.6491\n",
            "Epoch 45/100\n",
            "35/35 [==============================] - 30s 849ms/step - loss: 0.2021 - accuracy: 0.9346 - val_loss: 1.5793 - val_accuracy: 0.6445\n",
            "Epoch 46/100\n",
            "35/35 [==============================] - 28s 793ms/step - loss: 0.1789 - accuracy: 0.9410 - val_loss: 1.5696 - val_accuracy: 0.6904\n",
            "Epoch 47/100\n",
            "35/35 [==============================] - 28s 793ms/step - loss: 0.1627 - accuracy: 0.9451 - val_loss: 1.5478 - val_accuracy: 0.6491\n",
            "Epoch 48/100\n",
            "35/35 [==============================] - 28s 795ms/step - loss: 0.1414 - accuracy: 0.9543 - val_loss: 1.5970 - val_accuracy: 0.6651\n",
            "Epoch 49/100\n",
            "35/35 [==============================] - 30s 856ms/step - loss: 0.1720 - accuracy: 0.9410 - val_loss: 1.6460 - val_accuracy: 0.6674\n",
            "Epoch 50/100\n",
            "35/35 [==============================] - 28s 791ms/step - loss: 0.1348 - accuracy: 0.9581 - val_loss: 1.6937 - val_accuracy: 0.6537\n",
            "Epoch 51/100\n",
            "35/35 [==============================] - 28s 798ms/step - loss: 0.1340 - accuracy: 0.9558 - val_loss: 1.8037 - val_accuracy: 0.6353\n",
            "Epoch 52/100\n",
            "35/35 [==============================] - 29s 812ms/step - loss: 0.1282 - accuracy: 0.9566 - val_loss: 1.8013 - val_accuracy: 0.6422\n",
            "Epoch 53/100\n",
            "35/35 [==============================] - 29s 830ms/step - loss: 0.1406 - accuracy: 0.9552 - val_loss: 1.8867 - val_accuracy: 0.6560\n",
            "Epoch 54/100\n",
            "35/35 [==============================] - 30s 865ms/step - loss: 0.1039 - accuracy: 0.9679 - val_loss: 1.7468 - val_accuracy: 0.6583\n",
            "Epoch 55/100\n",
            "35/35 [==============================] - 29s 817ms/step - loss: 0.1372 - accuracy: 0.9537 - val_loss: 1.7893 - val_accuracy: 0.6720\n",
            "Epoch 56/100\n",
            "35/35 [==============================] - 28s 800ms/step - loss: 0.1253 - accuracy: 0.9563 - val_loss: 2.0113 - val_accuracy: 0.6697\n",
            "Epoch 57/100\n",
            "35/35 [==============================] - 28s 802ms/step - loss: 0.1126 - accuracy: 0.9667 - val_loss: 1.8708 - val_accuracy: 0.6743\n",
            "Epoch 58/100\n",
            "35/35 [==============================] - 28s 808ms/step - loss: 0.0986 - accuracy: 0.9662 - val_loss: 1.8192 - val_accuracy: 0.6628\n",
            "Epoch 59/100\n",
            "35/35 [==============================] - 30s 860ms/step - loss: 0.0961 - accuracy: 0.9702 - val_loss: 1.8477 - val_accuracy: 0.6835\n",
            "Epoch 60/100\n",
            "35/35 [==============================] - 28s 799ms/step - loss: 0.0961 - accuracy: 0.9685 - val_loss: 1.7993 - val_accuracy: 0.6812\n",
            "Epoch 61/100\n",
            "35/35 [==============================] - 29s 815ms/step - loss: 0.0925 - accuracy: 0.9702 - val_loss: 1.8687 - val_accuracy: 0.6835\n",
            "Epoch 62/100\n",
            "35/35 [==============================] - 28s 809ms/step - loss: 0.0901 - accuracy: 0.9740 - val_loss: 1.8447 - val_accuracy: 0.6491\n",
            "Epoch 63/100\n",
            "35/35 [==============================] - 28s 804ms/step - loss: 0.0866 - accuracy: 0.9719 - val_loss: 1.8630 - val_accuracy: 0.6606\n",
            "Epoch 64/100\n",
            "35/35 [==============================] - 30s 863ms/step - loss: 0.0797 - accuracy: 0.9777 - val_loss: 1.9339 - val_accuracy: 0.6628\n",
            "Epoch 65/100\n",
            "35/35 [==============================] - 28s 810ms/step - loss: 0.0774 - accuracy: 0.9774 - val_loss: 1.9298 - val_accuracy: 0.6606\n",
            "Epoch 66/100\n",
            "35/35 [==============================] - 28s 802ms/step - loss: 0.0642 - accuracy: 0.9815 - val_loss: 1.8676 - val_accuracy: 0.6651\n",
            "Epoch 67/100\n",
            "35/35 [==============================] - 28s 807ms/step - loss: 0.0717 - accuracy: 0.9774 - val_loss: 2.2879 - val_accuracy: 0.6353\n",
            "Epoch 68/100\n",
            "35/35 [==============================] - 28s 806ms/step - loss: 0.0872 - accuracy: 0.9731 - val_loss: 1.9536 - val_accuracy: 0.6376\n",
            "Epoch 69/100\n",
            "35/35 [==============================] - 31s 870ms/step - loss: 0.0931 - accuracy: 0.9711 - val_loss: 2.0114 - val_accuracy: 0.6560\n",
            "Epoch 70/100\n",
            "35/35 [==============================] - 29s 820ms/step - loss: 0.0807 - accuracy: 0.9777 - val_loss: 1.9243 - val_accuracy: 0.6697\n",
            "Epoch 71/100\n",
            "35/35 [==============================] - 28s 808ms/step - loss: 0.0874 - accuracy: 0.9708 - val_loss: 2.0377 - val_accuracy: 0.6651\n",
            "Epoch 72/100\n",
            "35/35 [==============================] - 29s 816ms/step - loss: 0.0689 - accuracy: 0.9786 - val_loss: 2.0891 - val_accuracy: 0.6468\n",
            "Epoch 73/100\n",
            "35/35 [==============================] - 29s 819ms/step - loss: 0.0651 - accuracy: 0.9812 - val_loss: 2.1123 - val_accuracy: 0.6743\n",
            "Epoch 74/100\n",
            "35/35 [==============================] - 30s 867ms/step - loss: 0.0720 - accuracy: 0.9740 - val_loss: 1.9965 - val_accuracy: 0.6514\n",
            "Epoch 75/100\n",
            "35/35 [==============================] - 29s 810ms/step - loss: 0.0797 - accuracy: 0.9734 - val_loss: 2.1944 - val_accuracy: 0.6628\n",
            "Epoch 76/100\n",
            "35/35 [==============================] - 29s 816ms/step - loss: 0.1018 - accuracy: 0.9679 - val_loss: 2.1002 - val_accuracy: 0.6514\n",
            "Epoch 77/100\n",
            "35/35 [==============================] - 29s 812ms/step - loss: 0.0592 - accuracy: 0.9803 - val_loss: 2.1210 - val_accuracy: 0.6606\n",
            "Epoch 78/100\n",
            "35/35 [==============================] - 30s 850ms/step - loss: 0.0536 - accuracy: 0.9838 - val_loss: 2.0300 - val_accuracy: 0.6697\n",
            "Epoch 79/100\n",
            "35/35 [==============================] - 29s 821ms/step - loss: 0.0492 - accuracy: 0.9853 - val_loss: 2.1900 - val_accuracy: 0.6812\n",
            "Epoch 80/100\n",
            "35/35 [==============================] - 28s 806ms/step - loss: 0.0565 - accuracy: 0.9835 - val_loss: 2.1391 - val_accuracy: 0.6583\n",
            "Epoch 81/100\n",
            "35/35 [==============================] - 28s 809ms/step - loss: 0.0553 - accuracy: 0.9844 - val_loss: 2.0899 - val_accuracy: 0.6743\n",
            "Epoch 82/100\n",
            "35/35 [==============================] - 29s 819ms/step - loss: 0.0563 - accuracy: 0.9832 - val_loss: 2.0366 - val_accuracy: 0.6858\n",
            "Epoch 83/100\n",
            "35/35 [==============================] - 30s 845ms/step - loss: 0.0612 - accuracy: 0.9835 - val_loss: 2.0448 - val_accuracy: 0.6743\n",
            "Epoch 84/100\n",
            "35/35 [==============================] - 28s 805ms/step - loss: 0.0548 - accuracy: 0.9838 - val_loss: 2.0656 - val_accuracy: 0.6560\n",
            "Epoch 85/100\n",
            "35/35 [==============================] - 29s 817ms/step - loss: 0.0681 - accuracy: 0.9777 - val_loss: 2.2713 - val_accuracy: 0.6606\n",
            "Epoch 86/100\n",
            "35/35 [==============================] - 29s 813ms/step - loss: 0.0707 - accuracy: 0.9754 - val_loss: 2.1875 - val_accuracy: 0.6583\n",
            "Epoch 87/100\n",
            "35/35 [==============================] - 28s 804ms/step - loss: 0.0723 - accuracy: 0.9757 - val_loss: 2.3617 - val_accuracy: 0.6468\n",
            "Epoch 88/100\n",
            "35/35 [==============================] - 30s 864ms/step - loss: 0.0767 - accuracy: 0.9731 - val_loss: 2.1480 - val_accuracy: 0.6720\n",
            "Epoch 89/100\n",
            "35/35 [==============================] - 29s 831ms/step - loss: 0.0432 - accuracy: 0.9864 - val_loss: 2.1195 - val_accuracy: 0.6766\n",
            "Epoch 90/100\n",
            "35/35 [==============================] - 29s 819ms/step - loss: 0.0560 - accuracy: 0.9829 - val_loss: 2.3676 - val_accuracy: 0.6674\n",
            "Epoch 91/100\n",
            "35/35 [==============================] - 31s 891ms/step - loss: 0.0703 - accuracy: 0.9795 - val_loss: 2.3597 - val_accuracy: 0.6468\n",
            "Epoch 92/100\n",
            "35/35 [==============================] - 29s 816ms/step - loss: 0.0755 - accuracy: 0.9769 - val_loss: 2.1641 - val_accuracy: 0.6812\n",
            "Epoch 93/100\n",
            "35/35 [==============================] - 29s 827ms/step - loss: 0.0501 - accuracy: 0.9858 - val_loss: 2.4262 - val_accuracy: 0.6789\n",
            "Epoch 94/100\n",
            "35/35 [==============================] - 31s 859ms/step - loss: 0.0699 - accuracy: 0.9783 - val_loss: 2.2270 - val_accuracy: 0.6628\n",
            "Epoch 95/100\n",
            "35/35 [==============================] - 29s 825ms/step - loss: 0.0726 - accuracy: 0.9751 - val_loss: 2.7547 - val_accuracy: 0.6422\n",
            "Epoch 96/100\n",
            "35/35 [==============================] - 28s 806ms/step - loss: 0.0585 - accuracy: 0.9800 - val_loss: 2.4513 - val_accuracy: 0.6743\n",
            "Epoch 97/100\n",
            "35/35 [==============================] - 28s 802ms/step - loss: 0.0848 - accuracy: 0.9751 - val_loss: 2.1597 - val_accuracy: 0.6789\n",
            "Epoch 98/100\n",
            "35/35 [==============================] - 30s 862ms/step - loss: 0.0436 - accuracy: 0.9884 - val_loss: 2.1258 - val_accuracy: 0.6972\n",
            "Epoch 99/100\n",
            "35/35 [==============================] - 29s 811ms/step - loss: 0.0441 - accuracy: 0.9881 - val_loss: 2.3517 - val_accuracy: 0.6697\n",
            "Epoch 100/100\n",
            "35/35 [==============================] - 28s 807ms/step - loss: 0.0416 - accuracy: 0.9867 - val_loss: 2.2169 - val_accuracy: 0.6766\n"
          ]
        },
        {
          "data": {
            "text/plain": [
              "<keras.callbacks.History at 0x7fb0df7848d0>"
            ]
          },
          "execution_count": 17,
          "metadata": {},
          "output_type": "execute_result"
        }
      ],
      "source": [
        "model.fit_generator(x_train,\n",
        "                    steps_per_epoch=len(x_train),\n",
        "                    epochs=100,\n",
        "                    validation_data=x_test,\n",
        "                    validation_steps=len(x_test))"
      ]
    },
    {
      "cell_type": "markdown",
      "metadata": {
        "id": "G_mhxQAFgODU"
      },
      "source": [
        "##**Save The Model**"
      ]
    },
    {
      "cell_type": "code",
      "execution_count": 18,
      "metadata": {
        "id": "K72z3FtrgQtr"
      },
      "outputs": [],
      "source": [
        "model.save('/content/drive/MyDrive/flowers.h5')"
      ]
    },
    {
      "cell_type": "markdown",
      "metadata": {
        "id": "cArzJnHNaSHm"
      },
      "source": [
        "\n",
        "\n",
        "##**Test The Model**"
      ]
    },
    {
      "cell_type": "code",
      "execution_count": 19,
      "metadata": {
        "id": "bIK3gv4XZyBv"
      },
      "outputs": [],
      "source": [
        "import numpy as np\n",
        "from keras.preprocessing import image"
      ]
    },
    {
      "cell_type": "code",
      "execution_count": 20,
      "metadata": {
        "colab": {
          "base_uri": "https://localhost:8080/",
          "height": 81
        },
        "id": "J0EfwvHpug4_",
        "outputId": "375551b4-5b84-486a-809c-984543f00265"
      },
      "outputs": [
        {
          "data": {
            "image/png": "[encoded data removed]",
            "text/plain": [
              "<PIL.Image.Image image mode=RGB size=64x64 at 0x7FB0DEC59110>"
            ]
          },
          "execution_count": 20,
          "metadata": {},
          "output_type": "execute_result"
        }
      ],
      "source": [
        "img=image.load_img('/content/drive/MyDrive/flowers/test/sunflower/5004121118_e9393e60d0_n.jpg',target_size=(64,64))\n",
        "img"
      ]
    },
    {
      "cell_type": "code",
      "execution_count": 21,
      "metadata": {
        "colab": {
          "base_uri": "https://localhost:8080/"
        },
        "id": "pu-HtLKDuwjR",
        "outputId": "ab8b78dc-6454-45d7-dd2a-b1b46fca80ad"
      },
      "outputs": [
        {
          "data": {
            "text/plain": [
              "array([[[[251., 251., 253.],\n",
              "         [252., 255., 255.],\n",
              "         [252., 255., 255.],\n",
              "         ...,\n",
              "         [254., 255., 243.],\n",
              "         [253., 255., 242.],\n",
              "         [250., 254., 237.]],\n",
              "\n",
              "        [[254., 255., 255.],\n",
              "         [255., 255., 255.],\n",
              "         [255., 254., 255.],\n",
              "         ...,\n",
              "         [253., 254., 255.],\n",
              "         [252., 255., 255.],\n",
              "         [252., 255., 251.]],\n",
              "\n",
              "        [[253., 253., 253.],\n",
              "         [255., 255., 253.],\n",
              "         [252., 254., 253.],\n",
              "         ...,\n",
              "         [249., 249., 251.],\n",
              "         [255., 253., 255.],\n",
              "         [253., 252., 248.]],\n",
              "\n",
              "        ...,\n",
              "\n",
              "        [[251., 250., 248.],\n",
              "         [254., 252., 253.],\n",
              "         [250., 252., 251.],\n",
              "         ...,\n",
              "         [250., 250., 252.],\n",
              "         [255., 253., 255.],\n",
              "         [253., 252., 248.]],\n",
              "\n",
              "        [[252., 251., 249.],\n",
              "         [255., 255., 253.],\n",
              "         [255., 255., 255.],\n",
              "         ...,\n",
              "         [254., 254., 255.],\n",
              "         [255., 255., 253.],\n",
              "         [252., 252., 242.]],\n",
              "\n",
              "        [[252., 251., 249.],\n",
              "         [255., 255., 251.],\n",
              "         [254., 255., 250.],\n",
              "         ...,\n",
              "         [255., 255., 251.],\n",
              "         [254., 253., 251.],\n",
              "         [254., 254., 244.]]]], dtype=float32)"
            ]
          },
          "execution_count": 21,
          "metadata": {},
          "output_type": "execute_result"
        }
      ],
      "source": [
        "x=image.img_to_array(img)\n",
        "x=np.expand_dims(x,axis=0)\n",
        "x"
      ]
    },
    {
      "cell_type": "code",
      "execution_count": 22,
      "metadata": {
        "colab": {
          "base_uri": "https://localhost:8080/"
        },
        "id": "n1XeQkIfvE-b",
        "outputId": "2d06abdc-44f5-49d7-9f85-93d9d2091926"
      },
      "outputs": [
        {
          "data": {
            "text/plain": [
              "array([[0., 0., 0., 1., 0.]], dtype=float32)"
            ]
          },
          "execution_count": 22,
          "metadata": {},
          "output_type": "execute_result"
        }
      ],
      "source": [
        "model.predict(x)"
      ]
    },
    {
      "cell_type": "code",
      "execution_count": 23,
      "metadata": {
        "colab": {
          "base_uri": "https://localhost:8080/"
        },
        "id": "eet1U5PHvLG_",
        "outputId": "e05d4f71-c52f-40ec-f873-a4fc3e281335"
      },
      "outputs": [
        {
          "data": {
            "text/plain": [
              "{'daisy': 0, 'dandelion': 1, 'rose': 2, 'sunflower': 3, 'tulip': 4}"
            ]
          },
          "execution_count": 23,
          "metadata": {},
          "output_type": "execute_result"
        }
      ],
      "source": [
        "x_train.class_indices"
      ]
    },
    {
      "cell_type": "code",
      "execution_count": 24,
      "metadata": {
        "id": "nw4E1qtGvRYd"
      },
      "outputs": [],
      "source": [
        "labels=['daisy','dandelion','rose','sunflower','tulip']"
      ]
    },
    {
      "cell_type": "code",
      "execution_count": 25,
      "metadata": {
        "colab": {
          "base_uri": "https://localhost:8080/"
        },
        "id": "cM5PnhcdvcTj",
        "outputId": "d022bc44-4d0f-4111-d3e1-fd5f225439fa"
      },
      "outputs": [
        {
          "name": "stdout",
          "output_type": "stream",
          "text": [
            "sunflower\n"
          ]
        }
      ],
      "source": [
        "print(labels[np.argmax(model.predict(x))])"
      ]
    },
    {
      "cell_type": "code",
      "execution_count": null,
      "metadata": {
        "id": "HErk3Lllvw36"
      },
      "outputs": [],
      "source": []
    }
  ],
  "metadata": {
    "colab": {
      "provenance": []
    },
    "kernelspec": {
      "display_name": "Python 3.10.7 64-bit (microsoft store)",
      "language": "python",
      "name": "python3"
    },
    "language_info": {
      "name": "python",
      "version": "3.10.7"
    },
    "vscode": {
      "interpreter": {
        "hash": "cbf015027fc5f58cdc658f1203f13a853e8b528a6149b3c218d6492cfb93ec3f"
      }
    }
  },
  "nbformat": 4,
  "nbformat_minor": 0
}
