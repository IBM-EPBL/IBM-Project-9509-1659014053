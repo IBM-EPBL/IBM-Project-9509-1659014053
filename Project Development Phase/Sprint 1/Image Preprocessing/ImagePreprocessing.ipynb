{
 "cells": [
  {
   "cell_type": "markdown",
   "id": "ddf11c23",
   "metadata": {},
   "source": [
    "## Image Augmentation"
   ]
  },
  {
   "cell_type": "code",
   "execution_count": 3,
   "id": "d42f9c35",
   "metadata": {},
   "outputs": [],
   "source": [
    "from keras.preprocessing.image import ImageDataGenerator "
   ]
  },
  {
   "cell_type": "code",
   "execution_count": 5,
   "id": "8b4f54f9",
   "metadata": {},
   "outputs": [],
   "source": [
    "train_data=ImageDataGenerator(rescale=1./255,shear_range=0.2,zoom_range=0.2,horizontal_flip=True)"
   ]
  },
  {
   "cell_type": "code",
   "execution_count": 8,
   "id": "7889e8d1",
   "metadata": {},
   "outputs": [],
   "source": [
    "test_data =ImageDataGenerator (rescale = 1)"
   ]
  },
  {
   "cell_type": "markdown",
   "id": "1b3ef682",
   "metadata": {},
   "source": [
    "### Convert images to 128px*128px"
   ]
  },
  {
   "cell_type": "markdown",
   "id": "f2e8250d",
   "metadata": {},
   "source": [
    "#### Fruit dataset processed"
   ]
  },
  {
   "cell_type": "code",
   "execution_count": 7,
   "id": "dc80297a",
   "metadata": {},
   "outputs": [
    {
     "name": "stdout",
     "output_type": "stream",
     "text": [
      "Found 5384 images belonging to 6 classes.\n"
     ]
    }
   ],
   "source": [
    "X_train=train_data.flow_from_directory(r'D:\\Clg-studies\\sem7\\IBM\\IBM-Project-9509-1659014053\\Project Development Phase\\Sprint 1\\Data Collection\\Dataset Plant Disease\\fruit-dataset\\train',target_size=(128,128),batch_size=32,class_mode=\"categorical\")"
   ]
  },
  {
   "cell_type": "code",
   "execution_count": 9,
   "id": "c1a6545b",
   "metadata": {},
   "outputs": [
    {
     "name": "stdout",
     "output_type": "stream",
     "text": [
      "Found 1686 images belonging to 6 classes.\n"
     ]
    }
   ],
   "source": [
    "X_test=test_data.flow_from_directory(r'D:\\Clg-studies\\sem7\\IBM\\IBM-Project-9509-1659014053\\Project Development Phase\\Sprint 1\\Data Collection\\Dataset Plant Disease\\fruit-dataset\\test',target_size=(128,128),batch_size=32,class_mode=\"categorical\")"
   ]
  },
  {
   "cell_type": "markdown",
   "id": "3501dc60",
   "metadata": {},
   "source": [
    "#### Veg dataset processed"
   ]
  },
  {
   "cell_type": "code",
   "execution_count": 11,
   "id": "0ca95fba",
   "metadata": {},
   "outputs": [
    {
     "name": "stdout",
     "output_type": "stream",
     "text": [
      "Found 11386 images belonging to 9 classes.\n"
     ]
    }
   ],
   "source": [
    "X_train_2=train_data.flow_from_directory(r'D:\\Clg-studies\\sem7\\IBM\\IBM-Project-9509-1659014053\\Project Development Phase\\Sprint 1\\Data Collection\\Dataset Plant Disease\\Veg-dataset\\train_set',target_size=(128,128),batch_size=32,class_mode=\"categorical\")"
   ]
  },
  {
   "cell_type": "code",
   "execution_count": 12,
   "id": "1b86130b",
   "metadata": {},
   "outputs": [
    {
     "name": "stdout",
     "output_type": "stream",
     "text": [
      "Found 3416 images belonging to 9 classes.\n"
     ]
    }
   ],
   "source": [
    "X_test_2=train_data.flow_from_directory(r'D:\\Clg-studies\\sem7\\IBM\\IBM-Project-9509-1659014053\\Project Development Phase\\Sprint 1\\Data Collection\\Dataset Plant Disease\\Veg-dataset\\test_set',target_size=(128,128),batch_size=32,class_mode=\"categorical\")"
   ]
  },
  {
   "cell_type": "code",
   "execution_count": null,
   "id": "ed16fbf3",
   "metadata": {},
   "outputs": [],
   "source": []
  }
 ],
 "metadata": {
  "kernelspec": {
   "display_name": "Python 3 (ipykernel)",
   "language": "python",
   "name": "python3"
  },
  "language_info": {
   "codemirror_mode": {
    "name": "ipython",
    "version": 3
   },
   "file_extension": ".py",
   "mimetype": "text/x-python",
   "name": "python",
   "nbconvert_exporter": "python",
   "pygments_lexer": "ipython3",
   "version": "3.9.12"
  }
 },
 "nbformat": 4,
 "nbformat_minor": 5
}
