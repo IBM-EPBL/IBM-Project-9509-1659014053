{
 "cells": [
  {
   "cell_type": "code",
   "execution_count": 13,
   "id": "c3d1909e",
   "metadata": {},
   "outputs": [],
   "source": [
    "from keras.preprocessing.image import ImageDataGenerator \n",
    "from keras.models import Sequential\n",
    "from keras.layers import Dense\n",
    "from keras.layers import Convolution2D\n",
    "from keras.layers import MaxPooling2D\n",
    "from keras.layers import Flatten"
   ]
  },
  {
   "cell_type": "markdown",
   "id": "6ea33763",
   "metadata": {},
   "source": [
    "### Image Preprocessing and Data Augmentation"
   ]
  },
  {
   "cell_type": "code",
   "execution_count": 7,
   "id": "9fc21135",
   "metadata": {},
   "outputs": [],
   "source": [
    "train_data=ImageDataGenerator(rescale=1./255,shear_range=0.2,zoom_range=0.2,horizontal_flip=True)"
   ]
  },
  {
   "cell_type": "code",
   "execution_count": 8,
   "id": "d7ae5533",
   "metadata": {},
   "outputs": [],
   "source": [
    "test_data =ImageDataGenerator (rescale = 1)"
   ]
  },
  {
   "cell_type": "code",
   "execution_count": 9,
   "id": "1c9a503d",
   "metadata": {},
   "outputs": [
    {
     "name": "stdout",
     "output_type": "stream",
     "text": [
      "Found 5384 images belonging to 6 classes.\n"
     ]
    }
   ],
   "source": [
    "X_train=train_data.flow_from_directory(r'D:\\Clg-studies\\sem7\\IBM\\IBM-Project-9509-1659014053\\Project Development Phase\\Sprint 1\\Data Collection\\Dataset Plant Disease\\fruit-dataset\\train',target_size=(128,128),batch_size=32,class_mode=\"categorical\")"
   ]
  },
  {
   "cell_type": "code",
   "execution_count": 10,
   "id": "de44fa1c",
   "metadata": {},
   "outputs": [
    {
     "name": "stdout",
     "output_type": "stream",
     "text": [
      "Found 1686 images belonging to 6 classes.\n"
     ]
    }
   ],
   "source": [
    "X_test=test_data.flow_from_directory(r'D:\\Clg-studies\\sem7\\IBM\\IBM-Project-9509-1659014053\\Project Development Phase\\Sprint 1\\Data Collection\\Dataset Plant Disease\\fruit-dataset\\test',target_size=(128,128),batch_size=32,class_mode=\"categorical\")"
   ]
  },
  {
   "cell_type": "code",
   "execution_count": 24,
   "id": "942f201d",
   "metadata": {},
   "outputs": [
    {
     "data": {
      "text/plain": [
       "dict_keys(['Apple___Black_rot', 'Apple___healthy', 'Corn_(maize)___Northern_Leaf_Blight', 'Corn_(maize)___healthy', 'Peach___Bacterial_spot', 'Peach___healthy'])"
      ]
     },
     "execution_count": 24,
     "metadata": {},
     "output_type": "execute_result"
    }
   ],
   "source": [
    "X_train.class_indices.keys()"
   ]
  },
  {
   "cell_type": "code",
   "execution_count": 28,
   "id": "0d222b1d",
   "metadata": {},
   "outputs": [
    {
     "data": {
      "text/plain": [
       "dict_keys(['Apple___Black_rot', 'Apple___healthy', 'Corn_(maize)___Northern_Leaf_Blight', 'Corn_(maize)___healthy', 'Peach___Bacterial_spot', 'Peach___healthy'])"
      ]
     },
     "execution_count": 28,
     "metadata": {},
     "output_type": "execute_result"
    }
   ],
   "source": [
    "X_test.class_indices.keys()"
   ]
  },
  {
   "cell_type": "markdown",
   "id": "dc4f8b3d",
   "metadata": {},
   "source": [
    "### Initializing The Model\n"
   ]
  },
  {
   "cell_type": "code",
   "execution_count": 14,
   "id": "981c1ba0",
   "metadata": {},
   "outputs": [],
   "source": [
    "model=Sequential()"
   ]
  },
  {
   "cell_type": "markdown",
   "id": "013386c2",
   "metadata": {},
   "source": [
    "### Add CNN Layers"
   ]
  },
  {
   "cell_type": "code",
   "execution_count": 15,
   "id": "7e33ac05",
   "metadata": {},
   "outputs": [],
   "source": [
    "model.add(Convolution2D(32,(3,3),input_shape=(128,128,3),activation='relu'))"
   ]
  },
  {
   "cell_type": "code",
   "execution_count": 18,
   "id": "d2171ef6",
   "metadata": {},
   "outputs": [],
   "source": [
    "#pooling layer\n",
    "model.add(MaxPooling2D(pool_size=(2,2)))"
   ]
  },
  {
   "cell_type": "code",
   "execution_count": 19,
   "id": "bb83bf87",
   "metadata": {},
   "outputs": [],
   "source": [
    "#flatten layer\n",
    "model.add(Flatten())"
   ]
  },
  {
   "cell_type": "code",
   "execution_count": 20,
   "id": "7f93e184",
   "metadata": {},
   "outputs": [
    {
     "name": "stdout",
     "output_type": "stream",
     "text": [
      "Model: \"sequential\"\n",
      "_________________________________________________________________\n",
      " Layer (type)                Output Shape              Param #   \n",
      "=================================================================\n",
      " conv2d (Conv2D)             (None, 126, 126, 32)      896       \n",
      "                                                                 \n",
      " max_pooling2d (MaxPooling2D  (None, 63, 63, 32)       0         \n",
      " )                                                               \n",
      "                                                                 \n",
      " flatten (Flatten)           (None, 127008)            0         \n",
      "                                                                 \n",
      "=================================================================\n",
      "Total params: 896\n",
      "Trainable params: 896\n",
      "Non-trainable params: 0\n",
      "_________________________________________________________________\n"
     ]
    }
   ],
   "source": [
    "model.summary()"
   ]
  },
  {
   "cell_type": "markdown",
   "id": "ff5b787d",
   "metadata": {},
   "source": [
    "### Add Dense Layers"
   ]
  },
  {
   "cell_type": "code",
   "execution_count": 29,
   "id": "27940ddc",
   "metadata": {},
   "outputs": [],
   "source": [
    "#dense layers\n",
    "model.add(Dense(300,kernel_initializer='uniform', activation = 'relu'))\n",
    "model.add(Dense(250,kernel_initializer = 'random_uniform', activation = 'relu'))\n",
    "model.add(Dense(6,kernel_initializer = 'random_uniform', activation = 'softmax')) #output layer"
   ]
  },
  {
   "cell_type": "code",
   "execution_count": 30,
   "id": "1ae900e1",
   "metadata": {},
   "outputs": [
    {
     "name": "stdout",
     "output_type": "stream",
     "text": [
      "Model: \"sequential\"\n",
      "_________________________________________________________________\n",
      " Layer (type)                Output Shape              Param #   \n",
      "=================================================================\n",
      " conv2d (Conv2D)             (None, 126, 126, 32)      896       \n",
      "                                                                 \n",
      " max_pooling2d (MaxPooling2D  (None, 63, 63, 32)       0         \n",
      " )                                                               \n",
      "                                                                 \n",
      " flatten (Flatten)           (None, 127008)            0         \n",
      "                                                                 \n",
      " dense (Dense)               (None, 300)               38102700  \n",
      "                                                                 \n",
      " dense_1 (Dense)             (None, 250)               75250     \n",
      "                                                                 \n",
      " dense_2 (Dense)             (None, 6)                 1506      \n",
      "                                                                 \n",
      "=================================================================\n",
      "Total params: 38,180,352\n",
      "Trainable params: 38,180,352\n",
      "Non-trainable params: 0\n",
      "_________________________________________________________________\n"
     ]
    }
   ],
   "source": [
    "model.summary()"
   ]
  },
  {
   "cell_type": "code",
   "execution_count": 31,
   "id": "8677a18c",
   "metadata": {},
   "outputs": [],
   "source": [
    "#compile model\n",
    "model.compile(loss='categorical_crossentropy',optimizer='adam',metrics=[\"accuracy\"])"
   ]
  },
  {
   "cell_type": "code",
   "execution_count": 33,
   "id": "2718be99",
   "metadata": {},
   "outputs": [
    {
     "data": {
      "text/plain": [
       "53"
      ]
     },
     "execution_count": 33,
     "metadata": {},
     "output_type": "execute_result"
    }
   ],
   "source": [
    "len(X_train)\n",
    "len(X_test)"
   ]
  },
  {
   "cell_type": "code",
   "execution_count": 37,
   "id": "c775a556",
   "metadata": {},
   "outputs": [
    {
     "name": "stderr",
     "output_type": "stream",
     "text": [
      "C:\\Users\\Madhumithaa\\AppData\\Local\\Temp\\ipykernel_25452\\1540878993.py:1: UserWarning: `Model.fit_generator` is deprecated and will be removed in a future version. Please use `Model.fit`, which supports generators.\n",
      "  model.fit_generator(X_train,steps_per_epoch=len(X_train),epochs=12,validation_data=X_test,validation_steps=len(X_test))\n"
     ]
    },
    {
     "name": "stdout",
     "output_type": "stream",
     "text": [
      "Epoch 1/12\n",
      "169/169 [==============================] - 96s 565ms/step - loss: 0.0780 - accuracy: 0.9733 - val_loss: 1158.5586 - val_accuracy: 0.6311\n",
      "Epoch 2/12\n",
      "169/169 [==============================] - 90s 534ms/step - loss: 0.0568 - accuracy: 0.9803 - val_loss: 1336.4701 - val_accuracy: 0.5890\n",
      "Epoch 3/12\n",
      "169/169 [==============================] - 115s 681ms/step - loss: 0.0476 - accuracy: 0.9825 - val_loss: 2344.9492 - val_accuracy: 0.4727\n",
      "Epoch 4/12\n",
      "169/169 [==============================] - 134s 794ms/step - loss: 0.0458 - accuracy: 0.9848 - val_loss: 2427.1777 - val_accuracy: 0.4822\n",
      "Epoch 5/12\n",
      "169/169 [==============================] - 165s 973ms/step - loss: 0.0844 - accuracy: 0.9749 - val_loss: 785.4515 - val_accuracy: 0.6168\n",
      "Epoch 6/12\n",
      "169/169 [==============================] - 153s 904ms/step - loss: 0.0527 - accuracy: 0.9818 - val_loss: 1581.9740 - val_accuracy: 0.6044\n",
      "Epoch 7/12\n",
      "169/169 [==============================] - 94s 554ms/step - loss: 0.0422 - accuracy: 0.9881 - val_loss: 1144.1666 - val_accuracy: 0.6376\n",
      "Epoch 8/12\n",
      "169/169 [==============================] - 111s 656ms/step - loss: 0.0497 - accuracy: 0.9831 - val_loss: 973.7907 - val_accuracy: 0.6151\n",
      "Epoch 9/12\n",
      "169/169 [==============================] - 176s 1s/step - loss: 0.0349 - accuracy: 0.9879 - val_loss: 1441.4517 - val_accuracy: 0.5955\n",
      "Epoch 10/12\n",
      "169/169 [==============================] - 171s 1s/step - loss: 0.0516 - accuracy: 0.9840 - val_loss: 1224.8441 - val_accuracy: 0.5510\n",
      "Epoch 11/12\n",
      "169/169 [==============================] - 159s 940ms/step - loss: 0.0408 - accuracy: 0.9868 - val_loss: 2179.4436 - val_accuracy: 0.4976\n",
      "Epoch 12/12\n",
      "169/169 [==============================] - 184s 1s/step - loss: 0.0416 - accuracy: 0.9866 - val_loss: 1186.5657 - val_accuracy: 0.6358\n"
     ]
    },
    {
     "data": {
      "text/plain": [
       "<keras.callbacks.History at 0x17683daf280>"
      ]
     },
     "execution_count": 37,
     "metadata": {},
     "output_type": "execute_result"
    }
   ],
   "source": [
    "model.fit_generator(X_train,steps_per_epoch=len(X_train),epochs=12,validation_data=X_test,validation_steps=len(X_test))"
   ]
  },
  {
   "cell_type": "code",
   "execution_count": 38,
   "id": "776a5eee",
   "metadata": {},
   "outputs": [],
   "source": [
    "model.save(\"fruit_training.h5\")"
   ]
  },
  {
   "cell_type": "code",
   "execution_count": null,
   "id": "11521eb5",
   "metadata": {},
   "outputs": [],
   "source": []
  }
 ],
 "metadata": {
  "kernelspec": {
   "display_name": "Python 3 (ipykernel)",
   "language": "python",
   "name": "python3"
  },
  "language_info": {
   "codemirror_mode": {
    "name": "ipython",
    "version": 3
   },
   "file_extension": ".py",
   "mimetype": "text/x-python",
   "name": "python",
   "nbconvert_exporter": "python",
   "pygments_lexer": "ipython3",
   "version": "3.9.12"
  }
 },
 "nbformat": 4,
 "nbformat_minor": 5
}
