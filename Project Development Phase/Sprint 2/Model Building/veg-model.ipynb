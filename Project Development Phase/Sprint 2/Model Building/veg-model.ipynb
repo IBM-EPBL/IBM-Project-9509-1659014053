{
 "cells": [
  {
   "cell_type": "code",
   "execution_count": 3,
   "id": "458d675e",
   "metadata": {},
   "outputs": [],
   "source": [
    "from keras.preprocessing.image import ImageDataGenerator \n",
    "from keras.models import Sequential\n",
    "from keras.layers import Dense\n",
    "from keras.layers import Convolution2D\n",
    "from keras.layers import MaxPooling2D\n",
    "from keras.layers import Flatten"
   ]
  },
  {
   "cell_type": "markdown",
   "id": "2b6f213a",
   "metadata": {},
   "source": [
    "### Image Preprocessing and Data Augmentation"
   ]
  },
  {
   "cell_type": "code",
   "execution_count": 2,
   "id": "1cee0d44",
   "metadata": {},
   "outputs": [],
   "source": [
    "train_data=ImageDataGenerator(rescale=1./255,shear_range=0.2,zoom_range=0.2,horizontal_flip=True)\n",
    "test_data =ImageDataGenerator (rescale = 1)"
   ]
  },
  {
   "cell_type": "code",
   "execution_count": 7,
   "id": "4a62be4f",
   "metadata": {},
   "outputs": [
    {
     "name": "stdout",
     "output_type": "stream",
     "text": [
      "Found 11386 images belonging to 9 classes.\n",
      "Found 3416 images belonging to 9 classes.\n"
     ]
    }
   ],
   "source": [
    "X_train=train_data.flow_from_directory(r'D:\\Clg-studies\\sem7\\IBM\\IBM-Project-9509-1659014053\\Project Development Phase\\Sprint 1\\Data Collection\\Dataset Plant Disease\\Veg-dataset\\train_set',target_size=(128,128),batch_size=25,class_mode=\"categorical\")\n",
    "X_test=test_data.flow_from_directory(r'D:\\Clg-studies\\sem7\\IBM\\IBM-Project-9509-1659014053\\Project Development Phase\\Sprint 1\\Data Collection\\Dataset Plant Disease\\Veg-dataset\\test_set',target_size=(128,128),batch_size=25,class_mode=\"categorical\")"
   ]
  },
  {
   "cell_type": "code",
   "execution_count": 6,
   "id": "0e09e336",
   "metadata": {},
   "outputs": [
    {
     "data": {
      "text/plain": [
       "dict_keys(['Pepper,_bell___Bacterial_spot', 'Pepper,_bell___healthy', 'Potato___Early_blight', 'Potato___Late_blight', 'Potato___healthy', 'Tomato___Bacterial_spot', 'Tomato___Late_blight', 'Tomato___Leaf_Mold', 'Tomato___Septoria_leaf_spot'])"
      ]
     },
     "execution_count": 6,
     "metadata": {},
     "output_type": "execute_result"
    }
   ],
   "source": [
    "X_train.class_indices.keys()"
   ]
  },
  {
   "cell_type": "markdown",
   "id": "9bfa9b48",
   "metadata": {},
   "source": [
    "### Initializing The Model"
   ]
  },
  {
   "cell_type": "code",
   "execution_count": 25,
   "id": "cb551f50",
   "metadata": {},
   "outputs": [],
   "source": [
    "model=Sequential()"
   ]
  },
  {
   "cell_type": "markdown",
   "id": "8197838e",
   "metadata": {},
   "source": [
    "### Add CNN Layers\n"
   ]
  },
  {
   "cell_type": "code",
   "execution_count": 26,
   "id": "f3975cd2",
   "metadata": {},
   "outputs": [
    {
     "name": "stdout",
     "output_type": "stream",
     "text": [
      "Model: \"sequential_1\"\n",
      "_________________________________________________________________\n",
      " Layer (type)                Output Shape              Param #   \n",
      "=================================================================\n",
      " conv2d_1 (Conv2D)           (None, 126, 126, 32)      896       \n",
      "                                                                 \n",
      " max_pooling2d_1 (MaxPooling  (None, 63, 63, 32)       0         \n",
      " 2D)                                                             \n",
      "                                                                 \n",
      " flatten_1 (Flatten)         (None, 127008)            0         \n",
      "                                                                 \n",
      "=================================================================\n",
      "Total params: 896\n",
      "Trainable params: 896\n",
      "Non-trainable params: 0\n",
      "_________________________________________________________________\n"
     ]
    }
   ],
   "source": [
    "\n",
    "model.add(Convolution2D(32,(3,3),input_shape=(128,128,3),activation='relu'))\n",
    "\n",
    "#pooling layer\n",
    "model.add(MaxPooling2D(pool_size=(2,2)))\n",
    "\n",
    "#flatten layer\n",
    "model.add(Flatten())\n",
    "\n",
    "model.summary()"
   ]
  },
  {
   "cell_type": "markdown",
   "id": "35f87739",
   "metadata": {},
   "source": [
    "### Add Dense Layers\n"
   ]
  },
  {
   "cell_type": "code",
   "execution_count": 27,
   "id": "d0aa667e",
   "metadata": {},
   "outputs": [
    {
     "name": "stdout",
     "output_type": "stream",
     "text": [
      "Model: \"sequential_1\"\n",
      "_________________________________________________________________\n",
      " Layer (type)                Output Shape              Param #   \n",
      "=================================================================\n",
      " conv2d_1 (Conv2D)           (None, 126, 126, 32)      896       \n",
      "                                                                 \n",
      " max_pooling2d_1 (MaxPooling  (None, 63, 63, 32)       0         \n",
      " 2D)                                                             \n",
      "                                                                 \n",
      " flatten_1 (Flatten)         (None, 127008)            0         \n",
      "                                                                 \n",
      " dense_20 (Dense)            (None, 300)               38102700  \n",
      "                                                                 \n",
      " dense_21 (Dense)            (None, 150)               45150     \n",
      "                                                                 \n",
      " dense_22 (Dense)            (None, 75)                11325     \n",
      "                                                                 \n",
      " dense_23 (Dense)            (None, 9)                 684       \n",
      "                                                                 \n",
      "=================================================================\n",
      "Total params: 38,160,755\n",
      "Trainable params: 38,160,755\n",
      "Non-trainable params: 0\n",
      "_________________________________________________________________\n"
     ]
    }
   ],
   "source": [
    "\n",
    "#dense layers\n",
    "model.add(Dense(300,kernel_initializer='uniform', activation = 'relu'))\n",
    "model.add(Dense(150,kernel_initializer = 'random_uniform', activation = 'relu'))\n",
    "model.add(Dense(75,kernel_initializer='random_uniform',activation='relu'))\n",
    "model.add(Dense(9,kernel_initializer = 'random_uniform', activation = 'softmax')) #output layer\n",
    "\n",
    "model.summary()"
   ]
  },
  {
   "cell_type": "code",
   "execution_count": 28,
   "id": "8e1a56da",
   "metadata": {},
   "outputs": [
    {
     "data": {
      "text/plain": [
       "137"
      ]
     },
     "execution_count": 28,
     "metadata": {},
     "output_type": "execute_result"
    }
   ],
   "source": [
    "#compile model\n",
    "model.compile(loss='categorical_crossentropy',optimizer='adam',metrics=[\"accuracy\"])\n",
    "\n",
    "len(X_train)\n",
    "len(X_test)"
   ]
  },
  {
   "cell_type": "code",
   "execution_count": 29,
   "id": "08ca248d",
   "metadata": {},
   "outputs": [
    {
     "name": "stderr",
     "output_type": "stream",
     "text": [
      "C:\\Users\\Madhumithaa\\AppData\\Local\\Temp\\ipykernel_26240\\1540878993.py:1: UserWarning: `Model.fit_generator` is deprecated and will be removed in a future version. Please use `Model.fit`, which supports generators.\n",
      "  model.fit_generator(X_train,steps_per_epoch=len(X_train),epochs=12,validation_data=X_test,validation_steps=len(X_test))\n"
     ]
    },
    {
     "name": "stdout",
     "output_type": "stream",
     "text": [
      "Epoch 1/12\n",
      "456/456 [==============================] - 366s 796ms/step - loss: 1.3695 - accuracy: 0.4911 - val_loss: 908.6581 - val_accuracy: 0.2986\n",
      "Epoch 2/12\n",
      "456/456 [==============================] - 357s 782ms/step - loss: 0.7869 - accuracy: 0.7163 - val_loss: 1839.4869 - val_accuracy: 0.1484\n",
      "Epoch 3/12\n",
      "456/456 [==============================] - 258s 564ms/step - loss: 0.5384 - accuracy: 0.8071 - val_loss: 2736.2617 - val_accuracy: 0.1355\n",
      "Epoch 4/12\n",
      "456/456 [==============================] - 262s 574ms/step - loss: 0.4196 - accuracy: 0.8542 - val_loss: 2193.7856 - val_accuracy: 0.2157\n",
      "Epoch 5/12\n",
      "456/456 [==============================] - 231s 507ms/step - loss: 0.3496 - accuracy: 0.8792 - val_loss: 2701.1792 - val_accuracy: 0.1950\n",
      "Epoch 6/12\n",
      "456/456 [==============================] - 229s 502ms/step - loss: 0.3162 - accuracy: 0.8916 - val_loss: 2823.8372 - val_accuracy: 0.2157\n",
      "Epoch 7/12\n",
      "456/456 [==============================] - 215s 471ms/step - loss: 0.2906 - accuracy: 0.8983 - val_loss: 1735.2977 - val_accuracy: 0.3352\n",
      "Epoch 8/12\n",
      "456/456 [==============================] - 219s 480ms/step - loss: 0.2473 - accuracy: 0.9150 - val_loss: 2712.1152 - val_accuracy: 0.2049\n",
      "Epoch 9/12\n",
      "456/456 [==============================] - 225s 493ms/step - loss: 0.2536 - accuracy: 0.9110 - val_loss: 2573.9407 - val_accuracy: 0.3162\n",
      "Epoch 10/12\n",
      "456/456 [==============================] - 203s 445ms/step - loss: 0.2095 - accuracy: 0.9296 - val_loss: 2587.8076 - val_accuracy: 0.2872\n",
      "Epoch 11/12\n",
      "456/456 [==============================] - 217s 476ms/step - loss: 0.1945 - accuracy: 0.9318 - val_loss: 2830.7104 - val_accuracy: 0.2480\n",
      "Epoch 12/12\n",
      "456/456 [==============================] - 239s 523ms/step - loss: 0.1932 - accuracy: 0.9311 - val_loss: 2053.0996 - val_accuracy: 0.3522\n"
     ]
    },
    {
     "data": {
      "text/plain": [
       "<keras.callbacks.History at 0x25598154370>"
      ]
     },
     "execution_count": 29,
     "metadata": {},
     "output_type": "execute_result"
    }
   ],
   "source": [
    "model.fit_generator(X_train,steps_per_epoch=len(X_train),epochs=12,validation_data=X_test,validation_steps=len(X_test))"
   ]
  },
  {
   "cell_type": "code",
   "execution_count": 30,
   "id": "468ec28d",
   "metadata": {},
   "outputs": [],
   "source": [
    "model.save(\"veg_training.h5\")"
   ]
  },
  {
   "cell_type": "code",
   "execution_count": null,
   "id": "47c58813",
   "metadata": {},
   "outputs": [],
   "source": []
  }
 ],
 "metadata": {
  "kernelspec": {
   "display_name": "Python 3 (ipykernel)",
   "language": "python",
   "name": "python3"
  },
  "language_info": {
   "codemirror_mode": {
    "name": "ipython",
    "version": 3
   },
   "file_extension": ".py",
   "mimetype": "text/x-python",
   "name": "python",
   "nbconvert_exporter": "python",
   "pygments_lexer": "ipython3",
   "version": "3.9.12"
  }
 },
 "nbformat": 4,
 "nbformat_minor": 5
}
